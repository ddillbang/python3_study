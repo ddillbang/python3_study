{
 "cells": [
  {
   "cell_type": "code",
   "execution_count": null,
   "metadata": {},
   "outputs": [],
   "source": [
    "'''\n",
    "정수의 합을 구하는 함수 두가지\n",
    "동일한 결과를 내지만 서로 실행 속도가 다르다.\n",
    "동일한 결과를 내는 코드도 생성된 바이트코드의 수에 따라 속도가 달라질 수 있다는 예시.\n",
    "\n",
    "p.88\n",
    "'''"
   ]
  },
  {
   "cell_type": "code",
   "execution_count": 3,
   "metadata": {},
   "outputs": [],
   "source": [
    "def fn_expressive(upper=1_000_000):\n",
    "    total = 0\n",
    "    for n in range(upper):\n",
    "        total += n\n",
    "    return total\n",
    "\n",
    "def fn_terse(upper=1_000_000):\n",
    "    return sum(range(upper))\n"
   ]
  },
  {
   "cell_type": "code",
   "execution_count": 4,
   "metadata": {},
   "outputs": [
    {
     "name": "stdout",
     "output_type": "stream",
     "text": [
      "27.3 ms ± 470 µs per loop (mean ± std. dev. of 7 runs, 10 loops each)\n",
      "10.2 ms ± 487 µs per loop (mean ± std. dev. of 7 runs, 100 loops each)\n"
     ]
    }
   ],
   "source": [
    "%timeit fn_expressive()\n",
    "%timeit fn_terse()"
   ]
  }
 ],
 "metadata": {
  "kernelspec": {
   "display_name": "Python 3",
   "language": "python",
   "name": "python3"
  },
  "language_info": {
   "codemirror_mode": {
    "name": "ipython",
    "version": 3
   },
   "file_extension": ".py",
   "mimetype": "text/x-python",
   "name": "python",
   "nbconvert_exporter": "python",
   "pygments_lexer": "ipython3",
   "version": "3.9.6"
  }
 },
 "nbformat": 4,
 "nbformat_minor": 2
}
