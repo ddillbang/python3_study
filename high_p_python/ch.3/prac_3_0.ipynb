{
 "cells": [
  {
   "cell_type": "code",
   "execution_count": 12,
   "metadata": {},
   "outputs": [],
   "source": [
    "def search(population:list, target):\n",
    "    mid = len(population)//2\n",
    "    if mid == 0:\n",
    "        return -1\n",
    "    now = population[mid]\n",
    "    if now == target:\n",
    "        return mid\n",
    "    elif now > target:\n",
    "        index = search(population[:mid], target)\n",
    "        return index if index > -1 else -1\n",
    "    elif now < target:\n",
    "        index = search(population[mid:], target)\n",
    "        return mid + index if index > -1 else -1"
   ]
  },
  {
   "cell_type": "code",
   "execution_count": 15,
   "metadata": {},
   "outputs": [
    {
     "name": "stdout",
     "output_type": "stream",
     "text": [
      "7\n"
     ]
    }
   ],
   "source": [
    "population = [9, 18, 18, 19, 29, 42, 56, 61, 88, 95]\n",
    "target = 61\n",
    "\n",
    "ret = search(population, target)\n",
    "print(ret)"
   ]
  },
  {
   "cell_type": "code",
   "execution_count": 18,
   "metadata": {},
   "outputs": [
    {
     "name": "stdout",
     "output_type": "stream",
     "text": [
      "300 ns ± 2.16 ns per loop (mean ± std. dev. of 7 runs, 1,000,000 loops each)\n",
      "91.7 ns ± 0.226 ns per loop (mean ± std. dev. of 7 runs, 10,000,000 loops each)\n"
     ]
    }
   ],
   "source": [
    "%timeit search(population, target)\n",
    "%timeit population.index(target)"
   ]
  },
  {
   "cell_type": "code",
   "execution_count": 20,
   "metadata": {},
   "outputs": [
    {
     "name": "stdout",
     "output_type": "stream",
     "text": [
      "274 ns ± 0.589 ns per loop (mean ± std. dev. of 7 runs, 1,000,000 loops each)\n",
      "48 ns ± 0.114 ns per loop (mean ± std. dev. of 7 runs, 10,000,000 loops each)\n"
     ]
    }
   ],
   "source": [
    "%timeit [None for x in range(0, 10)]\n",
    "%timeit [None] * 10"
   ]
  }
 ],
 "metadata": {
  "kernelspec": {
   "display_name": "Python 3",
   "language": "python",
   "name": "python3"
  },
  "language_info": {
   "codemirror_mode": {
    "name": "ipython",
    "version": 3
   },
   "file_extension": ".py",
   "mimetype": "text/x-python",
   "name": "python",
   "nbconvert_exporter": "python",
   "pygments_lexer": "ipython3",
   "version": "3.9.6"
  }
 },
 "nbformat": 4,
 "nbformat_minor": 2
}
